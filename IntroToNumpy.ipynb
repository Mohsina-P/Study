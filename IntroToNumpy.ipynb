{
 "cells": [
  {
   "cell_type": "markdown",
   "id": "e00dbc64-2c8a-4639-95a8-2500fea5d9e8",
   "metadata": {},
   "source": [
    "###\n",
    "1. Creation of Numpy Arrays\n",
    "2. Accessing Numpy array index\n",
    "3. Basic Numpy Operations"
   ]
  },
  {
   "cell_type": "markdown",
   "id": "efd0573a-a016-4323-a52b-388168bb886a",
   "metadata": {},
   "source": [
    "### 1. Creation of Numpy Arrays"
   ]
  },
  {
   "cell_type": "code",
   "execution_count": 3,
   "id": "c357351c-9396-4682-aa67-fd9aff8aebb9",
   "metadata": {},
   "outputs": [],
   "source": [
    "import numpy as np"
   ]
  },
  {
   "cell_type": "code",
   "execution_count": 5,
   "id": "f2eb7865-a5b2-49d4-9b03-a54a419487b0",
   "metadata": {},
   "outputs": [
    {
     "name": "stdout",
     "output_type": "stream",
     "text": [
      "[1 2 3]\n"
     ]
    }
   ],
   "source": [
    "# Creating rank 1 array\n",
    "arr1 = np.array([1,2,3])\n",
    "print(arr1)"
   ]
  },
  {
   "cell_type": "code",
   "execution_count": 23,
   "id": "102cdf03-b1d0-4c50-b209-5cf90f141b93",
   "metadata": {},
   "outputs": [
    {
     "name": "stdout",
     "output_type": "stream",
     "text": [
      "[[1 2 3]\n",
      " [4 5 6]]\n"
     ]
    }
   ],
   "source": [
    "# Creating rank 2 array\n",
    "arr2 =np.array([[1,2,3],[4,5,6]])\n",
    "print(arr2)"
   ]
  },
  {
   "cell_type": "code",
   "execution_count": 13,
   "id": "86de8f0d-8751-4d8f-a553-c7a15a635381",
   "metadata": {},
   "outputs": [
    {
     "name": "stdout",
     "output_type": "stream",
     "text": [
      "[1 2 3 4 5 6]\n"
     ]
    }
   ],
   "source": [
    "# Creating array with tuple\n",
    "arr3 = np.array((1,2,3,4,5,6))\n",
    "print(arr3)"
   ]
  },
  {
   "cell_type": "markdown",
   "id": "ac70c54f-8afc-4573-bbb9-d7a6f9187775",
   "metadata": {},
   "source": [
    "### 2. Accessing of Numpy Array Index"
   ]
  },
  {
   "cell_type": "code",
   "execution_count": 29,
   "id": "d33876ce-e0a1-4fba-bfa6-212e46a356d6",
   "metadata": {},
   "outputs": [
    {
     "name": "stdout",
     "output_type": "stream",
     "text": [
      "[[1 3]\n",
      " [4 6]]\n"
     ]
    }
   ],
   "source": [
    "# Slicing\n",
    "# Printing a range of array\n",
    "sliced_arr = arr2[:2, ::2]\n",
    "print(sliced_arr)"
   ]
  },
  {
   "cell_type": "code",
   "execution_count": 37,
   "id": "1c675cc0-e6d3-4f67-b58c-1266c472d83b",
   "metadata": {},
   "outputs": [
    {
     "name": "stdout",
     "output_type": "stream",
     "text": [
      "6\n"
     ]
    }
   ],
   "source": [
    "# Printing elements at specific indexes\n",
    "Indexed_arr = arr2[1,2]\n",
    "print(Indexed_arr)"
   ]
  },
  {
   "cell_type": "code",
   "execution_count": null,
   "id": "a21fc08b-0d35-4b37-bfe2-295fa6a62997",
   "metadata": {},
   "outputs": [],
   "source": []
  }
 ],
 "metadata": {
  "kernelspec": {
   "display_name": "Python 3 (ipykernel)",
   "language": "python",
   "name": "python3"
  },
  "language_info": {
   "codemirror_mode": {
    "name": "ipython",
    "version": 3
   },
   "file_extension": ".py",
   "mimetype": "text/x-python",
   "name": "python",
   "nbconvert_exporter": "python",
   "pygments_lexer": "ipython3",
   "version": "3.10.13"
  }
 },
 "nbformat": 4,
 "nbformat_minor": 5
}
